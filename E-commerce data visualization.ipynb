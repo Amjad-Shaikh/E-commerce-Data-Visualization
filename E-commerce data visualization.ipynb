{
 "cells": [
  {
   "cell_type": "markdown",
   "id": "a18b6d1d",
   "metadata": {},
   "source": [
    "# Read Dataset"
   ]
  },
  {
   "cell_type": "code",
   "execution_count": 1,
   "id": "b81a0c57",
   "metadata": {},
   "outputs": [
    {
     "data": {
      "text/html": [
       "<div>\n",
       "<style scoped>\n",
       "    .dataframe tbody tr th:only-of-type {\n",
       "        vertical-align: middle;\n",
       "    }\n",
       "\n",
       "    .dataframe tbody tr th {\n",
       "        vertical-align: top;\n",
       "    }\n",
       "\n",
       "    .dataframe thead th {\n",
       "        text-align: right;\n",
       "    }\n",
       "</style>\n",
       "<table border=\"1\" class=\"dataframe\">\n",
       "  <thead>\n",
       "    <tr style=\"text-align: right;\">\n",
       "      <th></th>\n",
       "      <th>Unnamed: 0</th>\n",
       "      <th>BrandName</th>\n",
       "      <th>Deatils</th>\n",
       "      <th>Sizes</th>\n",
       "      <th>MRP</th>\n",
       "      <th>SellPrice</th>\n",
       "      <th>Discount</th>\n",
       "      <th>Category</th>\n",
       "    </tr>\n",
       "  </thead>\n",
       "  <tbody>\n",
       "    <tr>\n",
       "      <th>0</th>\n",
       "      <td>0</td>\n",
       "      <td>life</td>\n",
       "      <td>solid cotton blend collar neck womens a-line d...</td>\n",
       "      <td>Size:Large,Medium,Small,X-Large,X-Small</td>\n",
       "      <td>Rs\\n1699</td>\n",
       "      <td>849</td>\n",
       "      <td>50% off</td>\n",
       "      <td>Westernwear-Women</td>\n",
       "    </tr>\n",
       "    <tr>\n",
       "      <th>1</th>\n",
       "      <td>1</td>\n",
       "      <td>only</td>\n",
       "      <td>polyester peter pan collar womens blouson dres...</td>\n",
       "      <td>Size:34,36,38,40</td>\n",
       "      <td>Rs\\n3499</td>\n",
       "      <td>2449</td>\n",
       "      <td>30% off</td>\n",
       "      <td>Westernwear-Women</td>\n",
       "    </tr>\n",
       "    <tr>\n",
       "      <th>2</th>\n",
       "      <td>2</td>\n",
       "      <td>fratini</td>\n",
       "      <td>solid polyester blend wide neck womens regular...</td>\n",
       "      <td>Size:Large,X-Large,XX-Large</td>\n",
       "      <td>Rs\\n1199</td>\n",
       "      <td>599</td>\n",
       "      <td>50% off</td>\n",
       "      <td>Westernwear-Women</td>\n",
       "    </tr>\n",
       "    <tr>\n",
       "      <th>3</th>\n",
       "      <td>3</td>\n",
       "      <td>zink london</td>\n",
       "      <td>stripes polyester sweetheart neck womens dress...</td>\n",
       "      <td>Size:Large,Medium,Small,X-Large</td>\n",
       "      <td>Rs\\n2299</td>\n",
       "      <td>1379</td>\n",
       "      <td>40% off</td>\n",
       "      <td>Westernwear-Women</td>\n",
       "    </tr>\n",
       "    <tr>\n",
       "      <th>4</th>\n",
       "      <td>4</td>\n",
       "      <td>life</td>\n",
       "      <td>regular fit regular length denim womens jeans ...</td>\n",
       "      <td>Size:26,28,30,32,34,36</td>\n",
       "      <td>Rs\\n1699</td>\n",
       "      <td>849</td>\n",
       "      <td>50% off</td>\n",
       "      <td>Westernwear-Women</td>\n",
       "    </tr>\n",
       "    <tr>\n",
       "      <th>...</th>\n",
       "      <td>...</td>\n",
       "      <td>...</td>\n",
       "      <td>...</td>\n",
       "      <td>...</td>\n",
       "      <td>...</td>\n",
       "      <td>...</td>\n",
       "      <td>...</td>\n",
       "      <td>...</td>\n",
       "    </tr>\n",
       "    <tr>\n",
       "      <th>30753</th>\n",
       "      <td>21</td>\n",
       "      <td>swarovski</td>\n",
       "      <td>crystal stylish womens rodhium earrings</td>\n",
       "      <td>Nan</td>\n",
       "      <td>Nan</td>\n",
       "      <td>8950</td>\n",
       "      <td>Nan</td>\n",
       "      <td>Jewellery-Women</td>\n",
       "    </tr>\n",
       "    <tr>\n",
       "      <th>30754</th>\n",
       "      <td>22</td>\n",
       "      <td>Nan</td>\n",
       "      <td>Nan</td>\n",
       "      <td>Nan</td>\n",
       "      <td>Nan</td>\n",
       "      <td>Nan</td>\n",
       "      <td>Nan</td>\n",
       "      <td>Jewellery-Women</td>\n",
       "    </tr>\n",
       "    <tr>\n",
       "      <th>30755</th>\n",
       "      <td>23</td>\n",
       "      <td>jewelz</td>\n",
       "      <td>ethnic gold plated jhumki earrings</td>\n",
       "      <td>Nan</td>\n",
       "      <td>Rs\\n1839</td>\n",
       "      <td>643</td>\n",
       "      <td>65% off</td>\n",
       "      <td>Jewellery-Women</td>\n",
       "    </tr>\n",
       "    <tr>\n",
       "      <th>30756</th>\n",
       "      <td>24</td>\n",
       "      <td>estelle</td>\n",
       "      <td>womens gold plated double line fancy white and...</td>\n",
       "      <td>Nan</td>\n",
       "      <td>Nan</td>\n",
       "      <td>2799</td>\n",
       "      <td>Nan</td>\n",
       "      <td>Jewellery-Women</td>\n",
       "    </tr>\n",
       "    <tr>\n",
       "      <th>30757</th>\n",
       "      <td>25</td>\n",
       "      <td>estelle</td>\n",
       "      <td>womens gold plated bridge designer mangalsutra...</td>\n",
       "      <td>Nan</td>\n",
       "      <td>Nan</td>\n",
       "      <td>1899</td>\n",
       "      <td>Nan</td>\n",
       "      <td>Jewellery-Women</td>\n",
       "    </tr>\n",
       "  </tbody>\n",
       "</table>\n",
       "<p>30758 rows × 8 columns</p>\n",
       "</div>"
      ],
      "text/plain": [
       "       Unnamed: 0    BrandName  \\\n",
       "0               0         life   \n",
       "1               1         only   \n",
       "2               2      fratini   \n",
       "3               3  zink london   \n",
       "4               4         life   \n",
       "...           ...          ...   \n",
       "30753          21    swarovski   \n",
       "30754          22          Nan   \n",
       "30755          23       jewelz   \n",
       "30756          24      estelle   \n",
       "30757          25      estelle   \n",
       "\n",
       "                                                 Deatils  \\\n",
       "0      solid cotton blend collar neck womens a-line d...   \n",
       "1      polyester peter pan collar womens blouson dres...   \n",
       "2      solid polyester blend wide neck womens regular...   \n",
       "3      stripes polyester sweetheart neck womens dress...   \n",
       "4      regular fit regular length denim womens jeans ...   \n",
       "...                                                  ...   \n",
       "30753            crystal stylish womens rodhium earrings   \n",
       "30754                                                Nan   \n",
       "30755                 ethnic gold plated jhumki earrings   \n",
       "30756  womens gold plated double line fancy white and...   \n",
       "30757  womens gold plated bridge designer mangalsutra...   \n",
       "\n",
       "                                         Sizes       MRP SellPrice Discount  \\\n",
       "0      Size:Large,Medium,Small,X-Large,X-Small  Rs\\n1699       849  50% off   \n",
       "1                             Size:34,36,38,40  Rs\\n3499      2449  30% off   \n",
       "2                  Size:Large,X-Large,XX-Large  Rs\\n1199       599  50% off   \n",
       "3              Size:Large,Medium,Small,X-Large  Rs\\n2299      1379  40% off   \n",
       "4                       Size:26,28,30,32,34,36  Rs\\n1699       849  50% off   \n",
       "...                                        ...       ...       ...      ...   \n",
       "30753                                      Nan       Nan      8950      Nan   \n",
       "30754                                      Nan       Nan       Nan      Nan   \n",
       "30755                                      Nan  Rs\\n1839       643  65% off   \n",
       "30756                                      Nan       Nan      2799      Nan   \n",
       "30757                                      Nan       Nan      1899      Nan   \n",
       "\n",
       "                Category  \n",
       "0      Westernwear-Women  \n",
       "1      Westernwear-Women  \n",
       "2      Westernwear-Women  \n",
       "3      Westernwear-Women  \n",
       "4      Westernwear-Women  \n",
       "...                  ...  \n",
       "30753    Jewellery-Women  \n",
       "30754    Jewellery-Women  \n",
       "30755    Jewellery-Women  \n",
       "30756    Jewellery-Women  \n",
       "30757    Jewellery-Women  \n",
       "\n",
       "[30758 rows x 8 columns]"
      ]
     },
     "execution_count": 1,
     "metadata": {},
     "output_type": "execute_result"
    }
   ],
   "source": [
    "from warnings import filterwarnings\n",
    "filterwarnings(\"ignore\")\n",
    "import numpy as np\n",
    "import pandas as pd \n",
    "A = pd.read_csv(\"C:/Users/Arshadali Shaikh/Downloads/FashionDataset.csv\")\n",
    "A"
   ]
  },
  {
   "cell_type": "code",
   "execution_count": 2,
   "id": "7bfa957c",
   "metadata": {},
   "outputs": [
    {
     "name": "stdout",
     "output_type": "stream",
     "text": [
      "<class 'pandas.core.frame.DataFrame'>\n",
      "RangeIndex: 30758 entries, 0 to 30757\n",
      "Data columns (total 8 columns):\n",
      " #   Column      Non-Null Count  Dtype \n",
      "---  ------      --------------  ----- \n",
      " 0   Unnamed: 0  30758 non-null  int64 \n",
      " 1   BrandName   30758 non-null  object\n",
      " 2   Deatils     30758 non-null  object\n",
      " 3   Sizes       30758 non-null  object\n",
      " 4   MRP         30758 non-null  object\n",
      " 5   SellPrice   30758 non-null  object\n",
      " 6   Discount    30758 non-null  object\n",
      " 7   Category    30758 non-null  object\n",
      "dtypes: int64(1), object(7)\n",
      "memory usage: 1.9+ MB\n"
     ]
    }
   ],
   "source": [
    "A.info()"
   ]
  },
  {
   "cell_type": "markdown",
   "id": "94351eae",
   "metadata": {},
   "source": [
    "# Data preparation"
   ]
  },
  {
   "cell_type": "code",
   "execution_count": 3,
   "id": "4e273052",
   "metadata": {},
   "outputs": [],
   "source": [
    "A.isna().sum()\n",
    "A= A.drop(labels=[\"Unnamed: 0\"],axis=1)"
   ]
  },
  {
   "cell_type": "code",
   "execution_count": 4,
   "id": "593eab51",
   "metadata": {},
   "outputs": [
    {
     "data": {
      "text/plain": [
       "(30758, 7)"
      ]
     },
     "execution_count": 4,
     "metadata": {},
     "output_type": "execute_result"
    }
   ],
   "source": [
    "A.shape"
   ]
  },
  {
   "cell_type": "code",
   "execution_count": 5,
   "id": "ff081052",
   "metadata": {},
   "outputs": [
    {
     "data": {
      "text/html": [
       "<div>\n",
       "<style scoped>\n",
       "    .dataframe tbody tr th:only-of-type {\n",
       "        vertical-align: middle;\n",
       "    }\n",
       "\n",
       "    .dataframe tbody tr th {\n",
       "        vertical-align: top;\n",
       "    }\n",
       "\n",
       "    .dataframe thead th {\n",
       "        text-align: right;\n",
       "    }\n",
       "</style>\n",
       "<table border=\"1\" class=\"dataframe\">\n",
       "  <thead>\n",
       "    <tr style=\"text-align: right;\">\n",
       "      <th></th>\n",
       "      <th>BrandName</th>\n",
       "      <th>Deatils</th>\n",
       "      <th>Sizes</th>\n",
       "      <th>MRP</th>\n",
       "      <th>SellPrice</th>\n",
       "      <th>Discount</th>\n",
       "      <th>Category</th>\n",
       "    </tr>\n",
       "  </thead>\n",
       "  <tbody>\n",
       "    <tr>\n",
       "      <th>0</th>\n",
       "      <td>life</td>\n",
       "      <td>solid cotton blend collar neck womens a-line d...</td>\n",
       "      <td>Size:Large,Medium,Small,X-Large,X-Small</td>\n",
       "      <td>Rs\\n1699</td>\n",
       "      <td>849</td>\n",
       "      <td>50% off</td>\n",
       "      <td>Westernwear-Women</td>\n",
       "    </tr>\n",
       "    <tr>\n",
       "      <th>1</th>\n",
       "      <td>only</td>\n",
       "      <td>polyester peter pan collar womens blouson dres...</td>\n",
       "      <td>Size:34,36,38,40</td>\n",
       "      <td>Rs\\n3499</td>\n",
       "      <td>2449</td>\n",
       "      <td>30% off</td>\n",
       "      <td>Westernwear-Women</td>\n",
       "    </tr>\n",
       "    <tr>\n",
       "      <th>2</th>\n",
       "      <td>fratini</td>\n",
       "      <td>solid polyester blend wide neck womens regular...</td>\n",
       "      <td>Size:Large,X-Large,XX-Large</td>\n",
       "      <td>Rs\\n1199</td>\n",
       "      <td>599</td>\n",
       "      <td>50% off</td>\n",
       "      <td>Westernwear-Women</td>\n",
       "    </tr>\n",
       "    <tr>\n",
       "      <th>3</th>\n",
       "      <td>zink london</td>\n",
       "      <td>stripes polyester sweetheart neck womens dress...</td>\n",
       "      <td>Size:Large,Medium,Small,X-Large</td>\n",
       "      <td>Rs\\n2299</td>\n",
       "      <td>1379</td>\n",
       "      <td>40% off</td>\n",
       "      <td>Westernwear-Women</td>\n",
       "    </tr>\n",
       "    <tr>\n",
       "      <th>4</th>\n",
       "      <td>life</td>\n",
       "      <td>regular fit regular length denim womens jeans ...</td>\n",
       "      <td>Size:26,28,30,32,34,36</td>\n",
       "      <td>Rs\\n1699</td>\n",
       "      <td>849</td>\n",
       "      <td>50% off</td>\n",
       "      <td>Westernwear-Women</td>\n",
       "    </tr>\n",
       "    <tr>\n",
       "      <th>...</th>\n",
       "      <td>...</td>\n",
       "      <td>...</td>\n",
       "      <td>...</td>\n",
       "      <td>...</td>\n",
       "      <td>...</td>\n",
       "      <td>...</td>\n",
       "      <td>...</td>\n",
       "    </tr>\n",
       "    <tr>\n",
       "      <th>30753</th>\n",
       "      <td>swarovski</td>\n",
       "      <td>crystal stylish womens rodhium earrings</td>\n",
       "      <td>Nan</td>\n",
       "      <td>Nan</td>\n",
       "      <td>8950</td>\n",
       "      <td>Nan</td>\n",
       "      <td>Jewellery-Women</td>\n",
       "    </tr>\n",
       "    <tr>\n",
       "      <th>30754</th>\n",
       "      <td>Nan</td>\n",
       "      <td>Nan</td>\n",
       "      <td>Nan</td>\n",
       "      <td>Nan</td>\n",
       "      <td>Nan</td>\n",
       "      <td>Nan</td>\n",
       "      <td>Jewellery-Women</td>\n",
       "    </tr>\n",
       "    <tr>\n",
       "      <th>30755</th>\n",
       "      <td>jewelz</td>\n",
       "      <td>ethnic gold plated jhumki earrings</td>\n",
       "      <td>Nan</td>\n",
       "      <td>Rs\\n1839</td>\n",
       "      <td>643</td>\n",
       "      <td>65% off</td>\n",
       "      <td>Jewellery-Women</td>\n",
       "    </tr>\n",
       "    <tr>\n",
       "      <th>30756</th>\n",
       "      <td>estelle</td>\n",
       "      <td>womens gold plated double line fancy white and...</td>\n",
       "      <td>Nan</td>\n",
       "      <td>Nan</td>\n",
       "      <td>2799</td>\n",
       "      <td>Nan</td>\n",
       "      <td>Jewellery-Women</td>\n",
       "    </tr>\n",
       "    <tr>\n",
       "      <th>30757</th>\n",
       "      <td>estelle</td>\n",
       "      <td>womens gold plated bridge designer mangalsutra...</td>\n",
       "      <td>Nan</td>\n",
       "      <td>Nan</td>\n",
       "      <td>1899</td>\n",
       "      <td>Nan</td>\n",
       "      <td>Jewellery-Women</td>\n",
       "    </tr>\n",
       "  </tbody>\n",
       "</table>\n",
       "<p>30758 rows × 7 columns</p>\n",
       "</div>"
      ],
      "text/plain": [
       "         BrandName                                            Deatils  \\\n",
       "0             life  solid cotton blend collar neck womens a-line d...   \n",
       "1             only  polyester peter pan collar womens blouson dres...   \n",
       "2          fratini  solid polyester blend wide neck womens regular...   \n",
       "3      zink london  stripes polyester sweetheart neck womens dress...   \n",
       "4             life  regular fit regular length denim womens jeans ...   \n",
       "...            ...                                                ...   \n",
       "30753    swarovski            crystal stylish womens rodhium earrings   \n",
       "30754          Nan                                                Nan   \n",
       "30755       jewelz                 ethnic gold plated jhumki earrings   \n",
       "30756      estelle  womens gold plated double line fancy white and...   \n",
       "30757      estelle  womens gold plated bridge designer mangalsutra...   \n",
       "\n",
       "                                         Sizes       MRP SellPrice Discount  \\\n",
       "0      Size:Large,Medium,Small,X-Large,X-Small  Rs\\n1699       849  50% off   \n",
       "1                             Size:34,36,38,40  Rs\\n3499      2449  30% off   \n",
       "2                  Size:Large,X-Large,XX-Large  Rs\\n1199       599  50% off   \n",
       "3              Size:Large,Medium,Small,X-Large  Rs\\n2299      1379  40% off   \n",
       "4                       Size:26,28,30,32,34,36  Rs\\n1699       849  50% off   \n",
       "...                                        ...       ...       ...      ...   \n",
       "30753                                      Nan       Nan      8950      Nan   \n",
       "30754                                      Nan       Nan       Nan      Nan   \n",
       "30755                                      Nan  Rs\\n1839       643  65% off   \n",
       "30756                                      Nan       Nan      2799      Nan   \n",
       "30757                                      Nan       Nan      1899      Nan   \n",
       "\n",
       "                Category  \n",
       "0      Westernwear-Women  \n",
       "1      Westernwear-Women  \n",
       "2      Westernwear-Women  \n",
       "3      Westernwear-Women  \n",
       "4      Westernwear-Women  \n",
       "...                  ...  \n",
       "30753    Jewellery-Women  \n",
       "30754    Jewellery-Women  \n",
       "30755    Jewellery-Women  \n",
       "30756    Jewellery-Women  \n",
       "30757    Jewellery-Women  \n",
       "\n",
       "[30758 rows x 7 columns]"
      ]
     },
     "execution_count": 5,
     "metadata": {},
     "output_type": "execute_result"
    }
   ],
   "source": [
    "A"
   ]
  },
  {
   "cell_type": "code",
   "execution_count": 6,
   "id": "6e7702c5",
   "metadata": {},
   "outputs": [
    {
     "data": {
      "text/plain": [
       "BrandName      275\n",
       "Deatils      23877\n",
       "Sizes         1172\n",
       "MRP           1097\n",
       "SellPrice     2046\n",
       "Discount        66\n",
       "Category         7\n",
       "dtype: int64"
      ]
     },
     "execution_count": 6,
     "metadata": {},
     "output_type": "execute_result"
    }
   ],
   "source": [
    "A.nunique()"
   ]
  },
  {
   "cell_type": "markdown",
   "id": "b17acd3e",
   "metadata": {},
   "source": [
    "# There are many values of nan ,we replace them by NULL and then we dropped from the particular rows "
   ]
  },
  {
   "cell_type": "code",
   "execution_count": 7,
   "id": "3e45485d",
   "metadata": {},
   "outputs": [],
   "source": [
    "A.replace(\"Nan\",np.nan,inplace=True)"
   ]
  },
  {
   "cell_type": "code",
   "execution_count": 8,
   "id": "32351729",
   "metadata": {},
   "outputs": [],
   "source": [
    "A.dropna(axis=0,inplace=True)"
   ]
  },
  {
   "cell_type": "code",
   "execution_count": 9,
   "id": "8e900292",
   "metadata": {},
   "outputs": [
    {
     "data": {
      "text/html": [
       "<div>\n",
       "<style scoped>\n",
       "    .dataframe tbody tr th:only-of-type {\n",
       "        vertical-align: middle;\n",
       "    }\n",
       "\n",
       "    .dataframe tbody tr th {\n",
       "        vertical-align: top;\n",
       "    }\n",
       "\n",
       "    .dataframe thead th {\n",
       "        text-align: right;\n",
       "    }\n",
       "</style>\n",
       "<table border=\"1\" class=\"dataframe\">\n",
       "  <thead>\n",
       "    <tr style=\"text-align: right;\">\n",
       "      <th></th>\n",
       "      <th>BrandName</th>\n",
       "      <th>Deatils</th>\n",
       "      <th>Sizes</th>\n",
       "      <th>MRP</th>\n",
       "      <th>SellPrice</th>\n",
       "      <th>Discount</th>\n",
       "      <th>Category</th>\n",
       "    </tr>\n",
       "  </thead>\n",
       "  <tbody>\n",
       "    <tr>\n",
       "      <th>0</th>\n",
       "      <td>life</td>\n",
       "      <td>solid cotton blend collar neck womens a-line d...</td>\n",
       "      <td>Size:Large,Medium,Small,X-Large,X-Small</td>\n",
       "      <td>Rs\\n1699</td>\n",
       "      <td>849</td>\n",
       "      <td>50% off</td>\n",
       "      <td>Westernwear-Women</td>\n",
       "    </tr>\n",
       "    <tr>\n",
       "      <th>1</th>\n",
       "      <td>only</td>\n",
       "      <td>polyester peter pan collar womens blouson dres...</td>\n",
       "      <td>Size:34,36,38,40</td>\n",
       "      <td>Rs\\n3499</td>\n",
       "      <td>2449</td>\n",
       "      <td>30% off</td>\n",
       "      <td>Westernwear-Women</td>\n",
       "    </tr>\n",
       "    <tr>\n",
       "      <th>2</th>\n",
       "      <td>fratini</td>\n",
       "      <td>solid polyester blend wide neck womens regular...</td>\n",
       "      <td>Size:Large,X-Large,XX-Large</td>\n",
       "      <td>Rs\\n1199</td>\n",
       "      <td>599</td>\n",
       "      <td>50% off</td>\n",
       "      <td>Westernwear-Women</td>\n",
       "    </tr>\n",
       "    <tr>\n",
       "      <th>3</th>\n",
       "      <td>zink london</td>\n",
       "      <td>stripes polyester sweetheart neck womens dress...</td>\n",
       "      <td>Size:Large,Medium,Small,X-Large</td>\n",
       "      <td>Rs\\n2299</td>\n",
       "      <td>1379</td>\n",
       "      <td>40% off</td>\n",
       "      <td>Westernwear-Women</td>\n",
       "    </tr>\n",
       "    <tr>\n",
       "      <th>4</th>\n",
       "      <td>life</td>\n",
       "      <td>regular fit regular length denim womens jeans ...</td>\n",
       "      <td>Size:26,28,30,32,34,36</td>\n",
       "      <td>Rs\\n1699</td>\n",
       "      <td>849</td>\n",
       "      <td>50% off</td>\n",
       "      <td>Westernwear-Women</td>\n",
       "    </tr>\n",
       "    <tr>\n",
       "      <th>...</th>\n",
       "      <td>...</td>\n",
       "      <td>...</td>\n",
       "      <td>...</td>\n",
       "      <td>...</td>\n",
       "      <td>...</td>\n",
       "      <td>...</td>\n",
       "      <td>...</td>\n",
       "    </tr>\n",
       "    <tr>\n",
       "      <th>26673</th>\n",
       "      <td>lemon &amp; pepper</td>\n",
       "      <td>womens casual wear buckle closure flats - navy</td>\n",
       "      <td>Size:36,37,38,39,40</td>\n",
       "      <td>Rs\\n2999</td>\n",
       "      <td>1499</td>\n",
       "      <td>50% off</td>\n",
       "      <td>Footwear-Women</td>\n",
       "    </tr>\n",
       "    <tr>\n",
       "      <th>26674</th>\n",
       "      <td>haute curry</td>\n",
       "      <td>womens casual wear slip on heels - black</td>\n",
       "      <td>Size:36,37,38,39,40</td>\n",
       "      <td>Rs\\n2199</td>\n",
       "      <td>1099</td>\n",
       "      <td>50% off</td>\n",
       "      <td>Footwear-Women</td>\n",
       "    </tr>\n",
       "    <tr>\n",
       "      <th>26885</th>\n",
       "      <td>swiss eagle</td>\n",
       "      <td>womens analogue metallic watch</td>\n",
       "      <td>Size:Error Size</td>\n",
       "      <td>Rs\\n13990</td>\n",
       "      <td>4197</td>\n",
       "      <td>70% off</td>\n",
       "      <td>Watches-Women</td>\n",
       "    </tr>\n",
       "    <tr>\n",
       "      <th>27290</th>\n",
       "      <td>lawman watches</td>\n",
       "      <td>womens rose gold dial stainless steel analogue...</td>\n",
       "      <td>Size:Error Size</td>\n",
       "      <td>Rs\\n7499</td>\n",
       "      <td>4999</td>\n",
       "      <td>33% off</td>\n",
       "      <td>Watches-Women</td>\n",
       "    </tr>\n",
       "    <tr>\n",
       "      <th>28418</th>\n",
       "      <td>lawman watches</td>\n",
       "      <td>womens silver dial stainless steel analogue wa...</td>\n",
       "      <td>Size:Error Size</td>\n",
       "      <td>Rs\\n5999</td>\n",
       "      <td>3999</td>\n",
       "      <td>33% off</td>\n",
       "      <td>Watches-Women</td>\n",
       "    </tr>\n",
       "  </tbody>\n",
       "</table>\n",
       "<p>18374 rows × 7 columns</p>\n",
       "</div>"
      ],
      "text/plain": [
       "            BrandName                                            Deatils  \\\n",
       "0                life  solid cotton blend collar neck womens a-line d...   \n",
       "1                only  polyester peter pan collar womens blouson dres...   \n",
       "2             fratini  solid polyester blend wide neck womens regular...   \n",
       "3         zink london  stripes polyester sweetheart neck womens dress...   \n",
       "4                life  regular fit regular length denim womens jeans ...   \n",
       "...               ...                                                ...   \n",
       "26673  lemon & pepper     womens casual wear buckle closure flats - navy   \n",
       "26674     haute curry           womens casual wear slip on heels - black   \n",
       "26885     swiss eagle                     womens analogue metallic watch   \n",
       "27290  lawman watches  womens rose gold dial stainless steel analogue...   \n",
       "28418  lawman watches  womens silver dial stainless steel analogue wa...   \n",
       "\n",
       "                                         Sizes        MRP SellPrice Discount  \\\n",
       "0      Size:Large,Medium,Small,X-Large,X-Small   Rs\\n1699       849  50% off   \n",
       "1                             Size:34,36,38,40   Rs\\n3499      2449  30% off   \n",
       "2                  Size:Large,X-Large,XX-Large   Rs\\n1199       599  50% off   \n",
       "3              Size:Large,Medium,Small,X-Large   Rs\\n2299      1379  40% off   \n",
       "4                       Size:26,28,30,32,34,36   Rs\\n1699       849  50% off   \n",
       "...                                        ...        ...       ...      ...   \n",
       "26673                      Size:36,37,38,39,40   Rs\\n2999      1499  50% off   \n",
       "26674                      Size:36,37,38,39,40   Rs\\n2199      1099  50% off   \n",
       "26885                          Size:Error Size  Rs\\n13990      4197  70% off   \n",
       "27290                          Size:Error Size   Rs\\n7499      4999  33% off   \n",
       "28418                          Size:Error Size   Rs\\n5999      3999  33% off   \n",
       "\n",
       "                Category  \n",
       "0      Westernwear-Women  \n",
       "1      Westernwear-Women  \n",
       "2      Westernwear-Women  \n",
       "3      Westernwear-Women  \n",
       "4      Westernwear-Women  \n",
       "...                  ...  \n",
       "26673     Footwear-Women  \n",
       "26674     Footwear-Women  \n",
       "26885      Watches-Women  \n",
       "27290      Watches-Women  \n",
       "28418      Watches-Women  \n",
       "\n",
       "[18374 rows x 7 columns]"
      ]
     },
     "execution_count": 9,
     "metadata": {},
     "output_type": "execute_result"
    }
   ],
   "source": [
    "A"
   ]
  },
  {
   "cell_type": "markdown",
   "id": "d20fada1",
   "metadata": {},
   "source": [
    "# As in MRP column values are in integer but due to RS it is in string ,so i have converted in integer."
   ]
  },
  {
   "cell_type": "code",
   "execution_count": 10,
   "id": "5c7ba5f0",
   "metadata": {},
   "outputs": [],
   "source": [
    "Q = []\n",
    "from re import sub\n",
    "for i in A.MRP:\n",
    "    Q.append(int(sub(\"[Rs\\n]\",\"\",i)))"
   ]
  },
  {
   "cell_type": "code",
   "execution_count": 11,
   "id": "156d9922",
   "metadata": {},
   "outputs": [],
   "source": [
    "A.MRP = Q"
   ]
  },
  {
   "cell_type": "code",
   "execution_count": 12,
   "id": "7d30097d",
   "metadata": {},
   "outputs": [],
   "source": [
    "S = A.SellPrice \n",
    "X = pd.to_numeric(S)"
   ]
  },
  {
   "cell_type": "code",
   "execution_count": 13,
   "id": "683d0793",
   "metadata": {},
   "outputs": [],
   "source": [
    "A.SellPrice = X"
   ]
  },
  {
   "cell_type": "markdown",
   "id": "c3cf064c",
   "metadata": {},
   "source": [
    "# EDA"
   ]
  },
  {
   "cell_type": "code",
   "execution_count": 14,
   "id": "3c22aac9",
   "metadata": {},
   "outputs": [
    {
     "name": "stdout",
     "output_type": "stream",
     "text": [
      "<class 'pandas.core.frame.DataFrame'>\n",
      "Int64Index: 18374 entries, 0 to 28418\n",
      "Data columns (total 7 columns):\n",
      " #   Column     Non-Null Count  Dtype \n",
      "---  ------     --------------  ----- \n",
      " 0   BrandName  18374 non-null  object\n",
      " 1   Deatils    18374 non-null  object\n",
      " 2   Sizes      18374 non-null  object\n",
      " 3   MRP        18374 non-null  int64 \n",
      " 4   SellPrice  18374 non-null  int64 \n",
      " 5   Discount   18374 non-null  object\n",
      " 6   Category   18374 non-null  object\n",
      "dtypes: int64(2), object(5)\n",
      "memory usage: 1.1+ MB\n"
     ]
    }
   ],
   "source": [
    "A.info()"
   ]
  },
  {
   "cell_type": "code",
   "execution_count": 15,
   "id": "1df0e3bd",
   "metadata": {},
   "outputs": [
    {
     "data": {
      "text/html": [
       "<div>\n",
       "<style scoped>\n",
       "    .dataframe tbody tr th:only-of-type {\n",
       "        vertical-align: middle;\n",
       "    }\n",
       "\n",
       "    .dataframe tbody tr th {\n",
       "        vertical-align: top;\n",
       "    }\n",
       "\n",
       "    .dataframe thead th {\n",
       "        text-align: right;\n",
       "    }\n",
       "</style>\n",
       "<table border=\"1\" class=\"dataframe\">\n",
       "  <thead>\n",
       "    <tr style=\"text-align: right;\">\n",
       "      <th></th>\n",
       "      <th>BrandName</th>\n",
       "      <th>Deatils</th>\n",
       "      <th>Sizes</th>\n",
       "      <th>MRP</th>\n",
       "      <th>SellPrice</th>\n",
       "      <th>Discount</th>\n",
       "      <th>Category</th>\n",
       "    </tr>\n",
       "  </thead>\n",
       "  <tbody>\n",
       "    <tr>\n",
       "      <th>0</th>\n",
       "      <td>life</td>\n",
       "      <td>solid cotton blend collar neck womens a-line d...</td>\n",
       "      <td>Size:Large,Medium,Small,X-Large,X-Small</td>\n",
       "      <td>1699</td>\n",
       "      <td>849</td>\n",
       "      <td>50% off</td>\n",
       "      <td>Westernwear-Women</td>\n",
       "    </tr>\n",
       "    <tr>\n",
       "      <th>1</th>\n",
       "      <td>only</td>\n",
       "      <td>polyester peter pan collar womens blouson dres...</td>\n",
       "      <td>Size:34,36,38,40</td>\n",
       "      <td>3499</td>\n",
       "      <td>2449</td>\n",
       "      <td>30% off</td>\n",
       "      <td>Westernwear-Women</td>\n",
       "    </tr>\n",
       "    <tr>\n",
       "      <th>2</th>\n",
       "      <td>fratini</td>\n",
       "      <td>solid polyester blend wide neck womens regular...</td>\n",
       "      <td>Size:Large,X-Large,XX-Large</td>\n",
       "      <td>1199</td>\n",
       "      <td>599</td>\n",
       "      <td>50% off</td>\n",
       "      <td>Westernwear-Women</td>\n",
       "    </tr>\n",
       "    <tr>\n",
       "      <th>3</th>\n",
       "      <td>zink london</td>\n",
       "      <td>stripes polyester sweetheart neck womens dress...</td>\n",
       "      <td>Size:Large,Medium,Small,X-Large</td>\n",
       "      <td>2299</td>\n",
       "      <td>1379</td>\n",
       "      <td>40% off</td>\n",
       "      <td>Westernwear-Women</td>\n",
       "    </tr>\n",
       "    <tr>\n",
       "      <th>4</th>\n",
       "      <td>life</td>\n",
       "      <td>regular fit regular length denim womens jeans ...</td>\n",
       "      <td>Size:26,28,30,32,34,36</td>\n",
       "      <td>1699</td>\n",
       "      <td>849</td>\n",
       "      <td>50% off</td>\n",
       "      <td>Westernwear-Women</td>\n",
       "    </tr>\n",
       "  </tbody>\n",
       "</table>\n",
       "</div>"
      ],
      "text/plain": [
       "     BrandName                                            Deatils  \\\n",
       "0         life  solid cotton blend collar neck womens a-line d...   \n",
       "1         only  polyester peter pan collar womens blouson dres...   \n",
       "2      fratini  solid polyester blend wide neck womens regular...   \n",
       "3  zink london  stripes polyester sweetheart neck womens dress...   \n",
       "4         life  regular fit regular length denim womens jeans ...   \n",
       "\n",
       "                                     Sizes   MRP  SellPrice Discount  \\\n",
       "0  Size:Large,Medium,Small,X-Large,X-Small  1699        849  50% off   \n",
       "1                         Size:34,36,38,40  3499       2449  30% off   \n",
       "2              Size:Large,X-Large,XX-Large  1199        599  50% off   \n",
       "3          Size:Large,Medium,Small,X-Large  2299       1379  40% off   \n",
       "4                   Size:26,28,30,32,34,36  1699        849  50% off   \n",
       "\n",
       "            Category  \n",
       "0  Westernwear-Women  \n",
       "1  Westernwear-Women  \n",
       "2  Westernwear-Women  \n",
       "3  Westernwear-Women  \n",
       "4  Westernwear-Women  "
      ]
     },
     "execution_count": 15,
     "metadata": {},
     "output_type": "execute_result"
    }
   ],
   "source": [
    "A.head()"
   ]
  },
  {
   "cell_type": "markdown",
   "id": "cdec544d",
   "metadata": {},
   "source": [
    "# Univariate analysis of continous columns"
   ]
  },
  {
   "cell_type": "code",
   "execution_count": 16,
   "id": "ba0df28a",
   "metadata": {},
   "outputs": [
    {
     "data": {
      "text/plain": [
       "<AxesSubplot:xlabel='MRP', ylabel='Density'>"
      ]
     },
     "execution_count": 16,
     "metadata": {},
     "output_type": "execute_result"
    },
    {
     "data": {
      "image/png": "[encoded data removed]",
      "text/plain": [
       "<Figure size 432x288 with 1 Axes>"
      ]
     },
     "metadata": {
      "needs_background": "light"
     },
     "output_type": "display_data"
    }
   ],
   "source": [
    "import seaborn as sb\n",
    "sb.distplot(A.MRP)"
   ]
  },
  {
   "cell_type": "code",
   "execution_count": 17,
   "id": "7ec7d4b3",
   "metadata": {},
   "outputs": [
    {
     "data": {
      "text/plain": [
       "<AxesSubplot:xlabel='SellPrice', ylabel='Density'>"
      ]
     },
     "execution_count": 17,
     "metadata": {},
     "output_type": "execute_result"
    },
    {
     "data": {
      "image/png": "[encoded data removed]",
      "text/plain": [
       "<Figure size 432x288 with 1 Axes>"
      ]
     },
     "metadata": {
      "needs_background": "light"
     },
     "output_type": "display_data"
    }
   ],
   "source": [
    "import seaborn as sb\n",
    "sb.distplot(A.SellPrice)"
   ]
  },
  {
   "cell_type": "code",
   "execution_count": 18,
   "id": "e50dcb93",
   "metadata": {},
   "outputs": [
    {
     "data": {
      "text/html": [
       "<div>\n",
       "<style scoped>\n",
       "    .dataframe tbody tr th:only-of-type {\n",
       "        vertical-align: middle;\n",
       "    }\n",
       "\n",
       "    .dataframe tbody tr th {\n",
       "        vertical-align: top;\n",
       "    }\n",
       "\n",
       "    .dataframe thead th {\n",
       "        text-align: right;\n",
       "    }\n",
       "</style>\n",
       "<table border=\"1\" class=\"dataframe\">\n",
       "  <thead>\n",
       "    <tr style=\"text-align: right;\">\n",
       "      <th></th>\n",
       "      <th>MRP</th>\n",
       "      <th>SellPrice</th>\n",
       "    </tr>\n",
       "  </thead>\n",
       "  <tbody>\n",
       "    <tr>\n",
       "      <th>count</th>\n",
       "      <td>18374.000000</td>\n",
       "      <td>18374.000000</td>\n",
       "    </tr>\n",
       "    <tr>\n",
       "      <th>mean</th>\n",
       "      <td>2136.928704</td>\n",
       "      <td>1163.798846</td>\n",
       "    </tr>\n",
       "    <tr>\n",
       "      <th>std</th>\n",
       "      <td>1189.416850</td>\n",
       "      <td>744.201506</td>\n",
       "    </tr>\n",
       "    <tr>\n",
       "      <th>min</th>\n",
       "      <td>171.000000</td>\n",
       "      <td>114.000000</td>\n",
       "    </tr>\n",
       "    <tr>\n",
       "      <th>25%</th>\n",
       "      <td>1299.000000</td>\n",
       "      <td>659.000000</td>\n",
       "    </tr>\n",
       "    <tr>\n",
       "      <th>50%</th>\n",
       "      <td>1899.000000</td>\n",
       "      <td>995.000000</td>\n",
       "    </tr>\n",
       "    <tr>\n",
       "      <th>75%</th>\n",
       "      <td>2663.000000</td>\n",
       "      <td>1469.000000</td>\n",
       "    </tr>\n",
       "    <tr>\n",
       "      <th>max</th>\n",
       "      <td>16999.000000</td>\n",
       "      <td>13599.000000</td>\n",
       "    </tr>\n",
       "  </tbody>\n",
       "</table>\n",
       "</div>"
      ],
      "text/plain": [
       "                MRP     SellPrice\n",
       "count  18374.000000  18374.000000\n",
       "mean    2136.928704   1163.798846\n",
       "std     1189.416850    744.201506\n",
       "min      171.000000    114.000000\n",
       "25%     1299.000000    659.000000\n",
       "50%     1899.000000    995.000000\n",
       "75%     2663.000000   1469.000000\n",
       "max    16999.000000  13599.000000"
      ]
     },
     "execution_count": 18,
     "metadata": {},
     "output_type": "execute_result"
    }
   ],
   "source": [
    "A.describe()"
   ]
  },
  {
   "cell_type": "markdown",
   "id": "4950e685",
   "metadata": {},
   "source": [
    "# Plotting the Bar and Charts by using Matlab"
   ]
  },
  {
   "cell_type": "code",
   "execution_count": 19,
   "id": "9db6d5b1",
   "metadata": {},
   "outputs": [],
   "source": [
    "import matplotlib.pyplot as plt \n",
    "import seaborn as sb"
   ]
  },
  {
   "cell_type": "code",
   "execution_count": 20,
   "id": "ec65f351",
   "metadata": {},
   "outputs": [
    {
     "data": {
      "text/plain": [
       "<AxesSubplot:xlabel='Category', ylabel='count'>"
      ]
     },
     "execution_count": 20,
     "metadata": {},
     "output_type": "execute_result"
    },
    {
     "data": {
      "image/png": "[encoded data removed]",
      "text/plain": [
       "<Figure size 1080x720 with 1 Axes>"
      ]
     },
     "metadata": {
      "needs_background": "light"
     },
     "output_type": "display_data"
    }
   ],
   "source": [
    "plt.figure(figsize=(15,10))\n",
    "plt.subplot(1,1,1)\n",
    "sb.countplot(A.Category)\n",
    "\n",
    "\n"
   ]
  },
  {
   "cell_type": "code",
   "execution_count": 21,
   "id": "7116881e",
   "metadata": {},
   "outputs": [
    {
     "data": {
      "text/plain": [
       "<AxesSubplot:ylabel='BrandName'>"
      ]
     },
     "execution_count": 21,
     "metadata": {},
     "output_type": "execute_result"
    },
    {
     "data": {
      "image/png": "[encoded data removed]",
      "text/plain": [
       "<Figure size 432x288 with 1 Axes>"
      ]
     },
     "metadata": {},
     "output_type": "display_data"
    }
   ],
   "source": [
    "A.BrandName.value_counts().head(25).plot(kind=\"pie\")"
   ]
  },
  {
   "cell_type": "code",
   "execution_count": 22,
   "id": "b901122c",
   "metadata": {},
   "outputs": [
    {
     "data": {
      "text/plain": [
       "<AxesSubplot:>"
      ]
     },
     "execution_count": 22,
     "metadata": {},
     "output_type": "execute_result"
    },
    {
     "data": {
      "image/png": "[encoded data removed]",
      "text/plain": [
       "<Figure size 432x288 with 1 Axes>"
      ]
     },
     "metadata": {
      "needs_background": "light"
     },
     "output_type": "display_data"
    }
   ],
   "source": [
    "A.Sizes.value_counts().head(30).plot(kind=\"bar\")\n"
   ]
  },
  {
   "cell_type": "code",
   "execution_count": 23,
   "id": "b663cd10",
   "metadata": {},
   "outputs": [
    {
     "data": {
      "text/plain": [
       "([<matplotlib.axis.XTick at 0x1b9808f1160>,\n",
       "  <matplotlib.axis.XTick at 0x1b9808f1130>,\n",
       "  <matplotlib.axis.XTick at 0x1b98091aa00>,\n",
       "  <matplotlib.axis.XTick at 0x1b98092c7c0>,\n",
       "  <matplotlib.axis.XTick at 0x1b98092c760>],\n",
       " [Text(0, 0, ''),\n",
       "  Text(0, 0, ''),\n",
       "  Text(0, 0, ''),\n",
       "  Text(0, 0, ''),\n",
       "  Text(0, 0, '')])"
      ]
     },
     "execution_count": 23,
     "metadata": {},
     "output_type": "execute_result"
    },
    {
     "data": {
      "image/png": "[encoded data removed]",
      "text/plain": [
       "<Figure size 432x288 with 1 Axes>"
      ]
     },
     "metadata": {
      "needs_background": "light"
     },
     "output_type": "display_data"
    }
   ],
   "source": [
    "sb.scatterplot(A.SellPrice,A.MRP,hue=A.Category)\n",
    "plt.xlabel(\"SellPrice\")\n",
    "plt.ylabel(\"MRP\")\n",
    "plt.xticks(range(0,14000,3000))\n"
   ]
  },
  {
   "cell_type": "code",
   "execution_count": 24,
   "id": "2777b7b0",
   "metadata": {},
   "outputs": [
    {
     "data": {
      "text/plain": [
       "<AxesSubplot:xlabel='Category', ylabel='SellPrice'>"
      ]
     },
     "execution_count": 24,
     "metadata": {},
     "output_type": "execute_result"
    },
    {
     "data": {
      "image/png": "[encoded data removed]",
      "text/plain": [
       "<Figure size 1440x720 with 1 Axes>"
      ]
     },
     "metadata": {
      "needs_background": "light"
     },
     "output_type": "display_data"
    }
   ],
   "source": [
    "plt.figure(figsize=(20,10))\n",
    "sb.boxplot(A.Category,A.SellPrice)\n",
    "#Comparison between the features to know about sellprice with different different Category "
   ]
  },
  {
   "cell_type": "code",
   "execution_count": 25,
   "id": "d70b9d81",
   "metadata": {},
   "outputs": [
    {
     "data": {
      "text/plain": [
       "<AxesSubplot:xlabel='Category', ylabel='MRP'>"
      ]
     },
     "execution_count": 25,
     "metadata": {},
     "output_type": "execute_result"
    },
    {
     "data": {
      "image/png": "[encoded data removed]",
      "text/plain": [
       "<Figure size 1440x720 with 1 Axes>"
      ]
     },
     "metadata": {
      "needs_background": "light"
     },
     "output_type": "display_data"
    }
   ],
   "source": [
    "plt.figure(figsize=(20,10))\n",
    "sb.boxplot(A.Category,A.MRP)\n",
    "#Comparison between the features to know about MRP with different different Category"
   ]
  },
  {
   "cell_type": "code",
   "execution_count": 26,
   "id": "2289f782",
   "metadata": {},
   "outputs": [
    {
     "data": {
      "text/plain": [
       "<AxesSubplot:>"
      ]
     },
     "execution_count": 26,
     "metadata": {},
     "output_type": "execute_result"
    },
    {
     "data": {
      "image/png": "[encoded data removed]",
      "text/plain": [
       "<Figure size 432x288 with 2 Axes>"
      ]
     },
     "metadata": {
      "needs_background": "light"
     },
     "output_type": "display_data"
    }
   ],
   "source": [
    "sb.heatmap(A.corr())"
   ]
  },
  {
   "cell_type": "code",
   "execution_count": null,
   "id": "568cbd8b",
   "metadata": {},
   "outputs": [],
   "source": []
  }
 ],
 "metadata": {
  "kernelspec": {
   "display_name": "Python 3 (ipykernel)",
   "language": "python",
   "name": "python3"
  },
  "language_info": {
   "codemirror_mode": {
    "name": "ipython",
    "version": 3
   },
   "file_extension": ".py",
   "mimetype": "text/x-python",
   "name": "python",
   "nbconvert_exporter": "python",
   "pygments_lexer": "ipython3",
   "version": "3.9.7"
  }
 },
 "nbformat": 4,
 "nbformat_minor": 5
}
